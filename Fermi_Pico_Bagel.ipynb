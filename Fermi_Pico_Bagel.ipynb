{
  "nbformat": 4,
  "nbformat_minor": 0,
  "metadata": {
    "colab": {
      "provenance": [],
      "authorship_tag": "ABX9TyOMaKz2q5vNk4vN0hB3m9Vi",
      "include_colab_link": true
    },
    "kernelspec": {
      "name": "python3",
      "display_name": "Python 3"
    },
    "language_info": {
      "name": "python"
    }
  },
  "cells": [
    {
      "cell_type": "markdown",
      "metadata": {
        "id": "view-in-github",
        "colab_type": "text"
      },
      "source": [
        "<a href=\"https://colab.research.google.com/github/JyothiSridevi/Fermi-Pico-bagel/blob/main/Fermi_Pico_Bagel.ipynb\" target=\"_parent\"><img src=\"https://colab.research.google.com/assets/colab-badge.svg\" alt=\"Open In Colab\"/></a>"
      ]
    },
    {
      "cell_type": "code",
      "source": [
        "original_number='548'#original_number[0]=1,original_number[1]=2,original_number[2]=3\n",
        "while True:\n",
        "  output=[]\n",
        "  guess_number=input('Enter a Number : ')\n",
        "\n",
        "  if len(guess_number) != len(original_number):\n",
        "    print(f'Enter {len(original_number)} digit number')\n",
        "  if len(guess_number) != len(set(original_number)):\n",
        "    print('Duplicate Number')\n",
        "\n",
        "  if(int(guess_number)-int(original_number)==0):\n",
        "    print('Fermi' * len(original_number))\n",
        "    print('\\n You Won!!')\n",
        "    break\n",
        "\n",
        "  for i in range(len(original_number)):\n",
        "    for j in range(len(guess_number)):\n",
        "      if(original_number[i] == guess_number[j]):\n",
        "        if i==j:\n",
        "          output.append('Fermi')#match\n",
        "        else:\n",
        "          output.append('Pico')#no match\n",
        "\n",
        "  output_string=''\n",
        "  for item in output:\n",
        "    output_string = output_string + ' '+ item\n",
        "  print(output_string)\n",
        "\n",
        "  if(len(output)==0):\n",
        "    print('Bagels')\n",
        "  else:\n",
        "    print(output_string)"
      ],
      "metadata": {
        "colab": {
          "base_uri": "https://localhost:8080/"
        },
        "id": "prmYv0lZd28N",
        "outputId": "3fd26196-3d41-481d-c707-807aa39026de"
      },
      "execution_count": 9,
      "outputs": [
        {
          "output_type": "stream",
          "name": "stdout",
          "text": [
            "Enter a Number : 123\n",
            "\n",
            "Bagels\n",
            "Enter a Number : 144\n",
            " Fermi Pico\n",
            " Fermi Pico\n",
            "Enter a Number : 567\n",
            " Fermi\n",
            " Fermi\n",
            "Enter a Number : 548\n",
            "FermiFermiFermi\n",
            "\n",
            " You Won!!\n"
          ]
        }
      ]
    }
  ]
}